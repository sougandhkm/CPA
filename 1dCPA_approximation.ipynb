{
 "cells": [
  {
   "cell_type": "code",
   "execution_count": 1,
   "id": "expired-heaven",
   "metadata": {},
   "outputs": [],
   "source": [
    "import sympy as sp\n",
    "import numpy as np\n",
    "from scipy.optimize import brentq\n",
    "import matplotlib.pyplot as plt"
   ]
  },
  {
   "cell_type": "markdown",
   "id": "received-symbol",
   "metadata": {},
   "source": [
    "We use the following eqations\n",
    "\n",
    "Th energy is defined as\n",
    "$$E = -\\epsilon (N_{++}+N_{--}-N_{+-}) = -\\frac{\\epsilon z N}{2} \\left( 1-2\\frac{1-m^2}{1+\\alpha} \\right)$$\n",
    "\n",
    "$\\alpha$ is defined as\n",
    "$$\\alpha = \\left[ 1+(1-m^2)(y^2-1) \\right]^\\frac{1}{2}$$\n",
    "\n",
    "$y$ is defined as \n",
    "$$y = \\exp \\left(2\\epsilon \\beta \\right)$$"
   ]
  },
  {
   "cell_type": "code",
   "execution_count": 18,
   "id": "middle-surface",
   "metadata": {},
   "outputs": [
    {
     "data": {
      "text/latex": [
       "$\\displaystyle E = - \\frac{N \\epsilon z \\left(- \\frac{2 \\left(1 - m^{2}\\right)}{\\alpha + 1} + 1\\right)}{2}$"
      ],
      "text/plain": [
       "Eq(E, -N*epsilon*z*(-2*(1 - m**2)/(alpha + 1) + 1)/2)"
      ]
     },
     "metadata": {},
     "output_type": "display_data"
    },
    {
     "data": {
      "text/latex": [
       "$\\displaystyle \\alpha = \\left(\\left(1 - m^{2}\\right) \\left(y^{2} - 1\\right) + 1\\right)^{0.5}$"
      ],
      "text/plain": [
       "Eq(alpha, ((1 - m**2)*(y**2 - 1) + 1)**0.5)"
      ]
     },
     "metadata": {},
     "output_type": "display_data"
    },
    {
     "data": {
      "text/latex": [
       "$\\displaystyle y = e^{2 \\beta \\epsilon}$"
      ],
      "text/plain": [
       "Eq(y, exp(2*beta*epsilon))"
      ]
     },
     "metadata": {},
     "output_type": "display_data"
    }
   ],
   "source": [
    "E_sym, alpha_sym, y_sym, epsilon, beta, m, N, z, y_sym = sp.symbols('E, alpha, y, epsilon, beta, m, N, z, y')\n",
    "\n",
    "E = -epsilon*z*N/2 * (1-2*((1-m**2)/(1+alpha_sym)))\n",
    "display((sp.Eq(E_sym,E)))\n",
    "\n",
    "alpha = (1+(1-m**2)*(y_sym**2-1))**0.5\n",
    "display((sp.Eq(alpha_sym, alpha)))\n",
    "\n",
    "y = sp.exp(2*epsilon*beta)\n",
    "display((sp.Eq(y_sym,y)))"
   ]
  },
  {
   "cell_type": "markdown",
   "id": "powerful-validation",
   "metadata": {},
   "source": [
    "We consider the case of a square lattice ($z=4$). We take a unit of 5 lattice site.\n",
    "\n",
    "We proceed using the ansatz that we can replace $m^2$ in the eqtuations for $E$ and $\\alpha$ by $m \\times \\frac{\\text{(magnetization of the unit of 5 lattice site)}}{5}$. \n",
    "\n",
    "This gives us 32 possible arraganements, $E1 = E_{5\\uparrow}$, $E2 = E_{4\\uparrow 1\\downarrow},$ ... $E32 = E_{5\\downarrow}$. Further we define the change in energy from the original as \n",
    "\n",
    "$$\\Delta E_{5\\uparrow} = E_{5\\uparrow} - E$$\n",
    "$$\\Delta E_{4\\uparrow 1\\downarrow} = E_{4\\uparrow 1\\downarrow} - E$$\n",
    "$$\\vdots$$\n",
    "$$\\Delta E_{5\\downarrow} = E_{5\\downarrow} - E$$\n",
    "\n",
    "Note that many of these cases will be degenerate."
   ]
  },
  {
   "cell_type": "code",
   "execution_count": 3,
   "id": "organized-cursor",
   "metadata": {},
   "outputs": [],
   "source": [
    "E_list = []\n",
    "\n",
    "for i1 in [1,-1]:\n",
    "    for i2 in [1,-1]:\n",
    "        for i3 in [1,-1]:\n",
    "                    temp = E.subs(alpha_sym,alpha)\n",
    "                    temp = temp.subs(y_sym,y)\n",
    "                    E_alpha_subs = temp.subs(y_sym,y)\n",
    "                    temp = temp.subs(m**2,(i1+i2+i3)*m/3)\n",
    "                    temp = temp - E_alpha_subs\n",
    "                    E_list.append(temp)\n",
    "                    \n",
    "                    "
   ]
  },
  {
   "cell_type": "markdown",
   "id": "japanese-recycling",
   "metadata": {},
   "source": [
    "Define $$V = \\sum_\\sigma \\exp(-\\beta \\Delta E_\\sigma)$$"
   ]
  },
  {
   "cell_type": "code",
   "execution_count": 19,
   "id": "finished-decimal",
   "metadata": {},
   "outputs": [
    {
     "data": {
      "text/latex": [
       "$\\displaystyle e^{- \\beta \\left(\\frac{N \\epsilon z \\left(- \\frac{2 \\left(1 - m^{2}\\right)}{\\left(\\left(1 - m^{2}\\right) \\left(e^{4 \\beta \\epsilon} - 1\\right) + 1\\right)^{0.5} + 1} + 1\\right)}{2} - \\frac{N \\epsilon z \\left(- \\frac{2 \\left(m + 1\\right)}{\\left(\\left(m + 1\\right) \\left(e^{4 \\beta \\epsilon} - 1\\right) + 1\\right)^{0.5} + 1} + 1\\right)}{2}\\right)} + 3 e^{- \\beta \\left(\\frac{N \\epsilon z \\left(- \\frac{2 \\left(1 - m^{2}\\right)}{\\left(\\left(1 - m^{2}\\right) \\left(e^{4 \\beta \\epsilon} - 1\\right) + 1\\right)^{0.5} + 1} + 1\\right)}{2} - \\frac{N \\epsilon z \\left(- \\frac{2 \\left(\\frac{m}{3} + 1\\right)}{\\left(\\left(\\frac{m}{3} + 1\\right) \\left(e^{4 \\beta \\epsilon} - 1\\right) + 1\\right)^{0.5} + 1} + 1\\right)}{2}\\right)} + 3 e^{- \\beta \\left(- \\frac{N \\epsilon z \\left(- \\frac{2 \\left(1 - \\frac{m}{3}\\right)}{\\left(\\left(1 - \\frac{m}{3}\\right) \\left(e^{4 \\beta \\epsilon} - 1\\right) + 1\\right)^{0.5} + 1} + 1\\right)}{2} + \\frac{N \\epsilon z \\left(- \\frac{2 \\left(1 - m^{2}\\right)}{\\left(\\left(1 - m^{2}\\right) \\left(e^{4 \\beta \\epsilon} - 1\\right) + 1\\right)^{0.5} + 1} + 1\\right)}{2}\\right)} + e^{- \\beta \\left(- \\frac{N \\epsilon z \\left(- \\frac{2 \\left(1 - m\\right)}{\\left(\\left(1 - m\\right) \\left(e^{4 \\beta \\epsilon} - 1\\right) + 1\\right)^{0.5} + 1} + 1\\right)}{2} + \\frac{N \\epsilon z \\left(- \\frac{2 \\left(1 - m^{2}\\right)}{\\left(\\left(1 - m^{2}\\right) \\left(e^{4 \\beta \\epsilon} - 1\\right) + 1\\right)^{0.5} + 1} + 1\\right)}{2}\\right)}$"
      ],
      "text/plain": [
       "exp(-beta*(N*epsilon*z*(-2*(1 - m**2)/(((1 - m**2)*(exp(4*beta*epsilon) - 1) + 1)**0.5 + 1) + 1)/2 - N*epsilon*z*(-2*(m + 1)/(((m + 1)*(exp(4*beta*epsilon) - 1) + 1)**0.5 + 1) + 1)/2)) + 3*exp(-beta*(N*epsilon*z*(-2*(1 - m**2)/(((1 - m**2)*(exp(4*beta*epsilon) - 1) + 1)**0.5 + 1) + 1)/2 - N*epsilon*z*(-2*(m/3 + 1)/(((m/3 + 1)*(exp(4*beta*epsilon) - 1) + 1)**0.5 + 1) + 1)/2)) + 3*exp(-beta*(-N*epsilon*z*(-2*(1 - m/3)/(((1 - m/3)*(exp(4*beta*epsilon) - 1) + 1)**0.5 + 1) + 1)/2 + N*epsilon*z*(-2*(1 - m**2)/(((1 - m**2)*(exp(4*beta*epsilon) - 1) + 1)**0.5 + 1) + 1)/2)) + exp(-beta*(-N*epsilon*z*(-2*(1 - m)/(((1 - m)*(exp(4*beta*epsilon) - 1) + 1)**0.5 + 1) + 1)/2 + N*epsilon*z*(-2*(1 - m**2)/(((1 - m**2)*(exp(4*beta*epsilon) - 1) + 1)**0.5 + 1) + 1)/2))"
      ]
     },
     "metadata": {},
     "output_type": "display_data"
    }
   ],
   "source": [
    "V = 0\n",
    "\n",
    "for i in E_list:\n",
    "    V = V + sp.exp(-beta*i)\n",
    "    \n",
    "display((V))"
   ]
  },
  {
   "cell_type": "markdown",
   "id": "threaded-plaintiff",
   "metadata": {},
   "source": [
    "We now use $$<\\Delta E> = -\\frac{\\partial}{\\partial \\beta}\\ln(V)$$"
   ]
  },
  {
   "cell_type": "code",
   "execution_count": 20,
   "id": "sapphire-proportion",
   "metadata": {},
   "outputs": [
    {
     "data": {
      "text/latex": [
       "$\\displaystyle - \\frac{\\left(\\frac{N \\epsilon z \\left(- \\frac{2 \\left(1 - m\\right)}{\\left(\\left(1 - m\\right) \\left(e^{4 \\beta \\epsilon} - 1\\right) + 1\\right)^{0.5} + 1} + 1\\right)}{2} - \\frac{N \\epsilon z \\left(- \\frac{2 \\left(1 - m^{2}\\right)}{\\left(\\left(1 - m^{2}\\right) \\left(e^{4 \\beta \\epsilon} - 1\\right) + 1\\right)^{0.5} + 1} + 1\\right)}{2} - \\beta \\left(- \\frac{2.0 N \\epsilon^{2} z \\left(1 - m\\right)^{2} e^{4 \\beta \\epsilon}}{\\left(\\left(1 - m\\right) \\left(e^{4 \\beta \\epsilon} - 1\\right) + 1\\right)^{0.5} \\left(\\left(\\left(1 - m\\right) \\left(e^{4 \\beta \\epsilon} - 1\\right) + 1\\right)^{0.5} + 1\\right)^{2}} + \\frac{2.0 N \\epsilon^{2} z \\left(1 - m^{2}\\right)^{2} e^{4 \\beta \\epsilon}}{\\left(\\left(1 - m^{2}\\right) \\left(e^{4 \\beta \\epsilon} - 1\\right) + 1\\right)^{0.5} \\left(\\left(\\left(1 - m^{2}\\right) \\left(e^{4 \\beta \\epsilon} - 1\\right) + 1\\right)^{0.5} + 1\\right)^{2}}\\right)\\right) e^{- \\beta \\left(- \\frac{N \\epsilon z \\left(- \\frac{2 \\left(1 - m\\right)}{\\left(\\left(1 - m\\right) \\left(e^{4 \\beta \\epsilon} - 1\\right) + 1\\right)^{0.5} + 1} + 1\\right)}{2} + \\frac{N \\epsilon z \\left(- \\frac{2 \\left(1 - m^{2}\\right)}{\\left(\\left(1 - m^{2}\\right) \\left(e^{4 \\beta \\epsilon} - 1\\right) + 1\\right)^{0.5} + 1} + 1\\right)}{2}\\right)} + 3 \\left(\\frac{N \\epsilon z \\left(- \\frac{2 \\left(1 - \\frac{m}{3}\\right)}{\\left(\\left(1 - \\frac{m}{3}\\right) \\left(e^{4 \\beta \\epsilon} - 1\\right) + 1\\right)^{0.5} + 1} + 1\\right)}{2} - \\frac{N \\epsilon z \\left(- \\frac{2 \\left(1 - m^{2}\\right)}{\\left(\\left(1 - m^{2}\\right) \\left(e^{4 \\beta \\epsilon} - 1\\right) + 1\\right)^{0.5} + 1} + 1\\right)}{2} - \\beta \\left(- \\frac{2.0 N \\epsilon^{2} z \\left(1 - \\frac{m}{3}\\right)^{2} e^{4 \\beta \\epsilon}}{\\left(\\left(1 - \\frac{m}{3}\\right) \\left(e^{4 \\beta \\epsilon} - 1\\right) + 1\\right)^{0.5} \\left(\\left(\\left(1 - \\frac{m}{3}\\right) \\left(e^{4 \\beta \\epsilon} - 1\\right) + 1\\right)^{0.5} + 1\\right)^{2}} + \\frac{2.0 N \\epsilon^{2} z \\left(1 - m^{2}\\right)^{2} e^{4 \\beta \\epsilon}}{\\left(\\left(1 - m^{2}\\right) \\left(e^{4 \\beta \\epsilon} - 1\\right) + 1\\right)^{0.5} \\left(\\left(\\left(1 - m^{2}\\right) \\left(e^{4 \\beta \\epsilon} - 1\\right) + 1\\right)^{0.5} + 1\\right)^{2}}\\right)\\right) e^{- \\beta \\left(- \\frac{N \\epsilon z \\left(- \\frac{2 \\left(1 - \\frac{m}{3}\\right)}{\\left(\\left(1 - \\frac{m}{3}\\right) \\left(e^{4 \\beta \\epsilon} - 1\\right) + 1\\right)^{0.5} + 1} + 1\\right)}{2} + \\frac{N \\epsilon z \\left(- \\frac{2 \\left(1 - m^{2}\\right)}{\\left(\\left(1 - m^{2}\\right) \\left(e^{4 \\beta \\epsilon} - 1\\right) + 1\\right)^{0.5} + 1} + 1\\right)}{2}\\right)} + 3 \\left(- \\frac{N \\epsilon z \\left(- \\frac{2 \\left(1 - m^{2}\\right)}{\\left(\\left(1 - m^{2}\\right) \\left(e^{4 \\beta \\epsilon} - 1\\right) + 1\\right)^{0.5} + 1} + 1\\right)}{2} + \\frac{N \\epsilon z \\left(- \\frac{2 \\left(\\frac{m}{3} + 1\\right)}{\\left(\\left(\\frac{m}{3} + 1\\right) \\left(e^{4 \\beta \\epsilon} - 1\\right) + 1\\right)^{0.5} + 1} + 1\\right)}{2} - \\beta \\left(\\frac{2.0 N \\epsilon^{2} z \\left(1 - m^{2}\\right)^{2} e^{4 \\beta \\epsilon}}{\\left(\\left(1 - m^{2}\\right) \\left(e^{4 \\beta \\epsilon} - 1\\right) + 1\\right)^{0.5} \\left(\\left(\\left(1 - m^{2}\\right) \\left(e^{4 \\beta \\epsilon} - 1\\right) + 1\\right)^{0.5} + 1\\right)^{2}} - \\frac{2.0 N \\epsilon^{2} z \\left(\\frac{m}{3} + 1\\right)^{2} e^{4 \\beta \\epsilon}}{\\left(\\left(\\frac{m}{3} + 1\\right) \\left(e^{4 \\beta \\epsilon} - 1\\right) + 1\\right)^{0.5} \\left(\\left(\\left(\\frac{m}{3} + 1\\right) \\left(e^{4 \\beta \\epsilon} - 1\\right) + 1\\right)^{0.5} + 1\\right)^{2}}\\right)\\right) e^{- \\beta \\left(\\frac{N \\epsilon z \\left(- \\frac{2 \\left(1 - m^{2}\\right)}{\\left(\\left(1 - m^{2}\\right) \\left(e^{4 \\beta \\epsilon} - 1\\right) + 1\\right)^{0.5} + 1} + 1\\right)}{2} - \\frac{N \\epsilon z \\left(- \\frac{2 \\left(\\frac{m}{3} + 1\\right)}{\\left(\\left(\\frac{m}{3} + 1\\right) \\left(e^{4 \\beta \\epsilon} - 1\\right) + 1\\right)^{0.5} + 1} + 1\\right)}{2}\\right)} + \\left(- \\frac{N \\epsilon z \\left(- \\frac{2 \\left(1 - m^{2}\\right)}{\\left(\\left(1 - m^{2}\\right) \\left(e^{4 \\beta \\epsilon} - 1\\right) + 1\\right)^{0.5} + 1} + 1\\right)}{2} + \\frac{N \\epsilon z \\left(- \\frac{2 \\left(m + 1\\right)}{\\left(\\left(m + 1\\right) \\left(e^{4 \\beta \\epsilon} - 1\\right) + 1\\right)^{0.5} + 1} + 1\\right)}{2} - \\beta \\left(\\frac{2.0 N \\epsilon^{2} z \\left(1 - m^{2}\\right)^{2} e^{4 \\beta \\epsilon}}{\\left(\\left(1 - m^{2}\\right) \\left(e^{4 \\beta \\epsilon} - 1\\right) + 1\\right)^{0.5} \\left(\\left(\\left(1 - m^{2}\\right) \\left(e^{4 \\beta \\epsilon} - 1\\right) + 1\\right)^{0.5} + 1\\right)^{2}} - \\frac{2.0 N \\epsilon^{2} z \\left(m + 1\\right)^{2} e^{4 \\beta \\epsilon}}{\\left(\\left(m + 1\\right) \\left(e^{4 \\beta \\epsilon} - 1\\right) + 1\\right)^{0.5} \\left(\\left(\\left(m + 1\\right) \\left(e^{4 \\beta \\epsilon} - 1\\right) + 1\\right)^{0.5} + 1\\right)^{2}}\\right)\\right) e^{- \\beta \\left(\\frac{N \\epsilon z \\left(- \\frac{2 \\left(1 - m^{2}\\right)}{\\left(\\left(1 - m^{2}\\right) \\left(e^{4 \\beta \\epsilon} - 1\\right) + 1\\right)^{0.5} + 1} + 1\\right)}{2} - \\frac{N \\epsilon z \\left(- \\frac{2 \\left(m + 1\\right)}{\\left(\\left(m + 1\\right) \\left(e^{4 \\beta \\epsilon} - 1\\right) + 1\\right)^{0.5} + 1} + 1\\right)}{2}\\right)}}{e^{- \\beta \\left(\\frac{N \\epsilon z \\left(- \\frac{2 \\left(1 - m^{2}\\right)}{\\left(\\left(1 - m^{2}\\right) \\left(e^{4 \\beta \\epsilon} - 1\\right) + 1\\right)^{0.5} + 1} + 1\\right)}{2} - \\frac{N \\epsilon z \\left(- \\frac{2 \\left(m + 1\\right)}{\\left(\\left(m + 1\\right) \\left(e^{4 \\beta \\epsilon} - 1\\right) + 1\\right)^{0.5} + 1} + 1\\right)}{2}\\right)} + 3 e^{- \\beta \\left(\\frac{N \\epsilon z \\left(- \\frac{2 \\left(1 - m^{2}\\right)}{\\left(\\left(1 - m^{2}\\right) \\left(e^{4 \\beta \\epsilon} - 1\\right) + 1\\right)^{0.5} + 1} + 1\\right)}{2} - \\frac{N \\epsilon z \\left(- \\frac{2 \\left(\\frac{m}{3} + 1\\right)}{\\left(\\left(\\frac{m}{3} + 1\\right) \\left(e^{4 \\beta \\epsilon} - 1\\right) + 1\\right)^{0.5} + 1} + 1\\right)}{2}\\right)} + 3 e^{- \\beta \\left(- \\frac{N \\epsilon z \\left(- \\frac{2 \\left(1 - \\frac{m}{3}\\right)}{\\left(\\left(1 - \\frac{m}{3}\\right) \\left(e^{4 \\beta \\epsilon} - 1\\right) + 1\\right)^{0.5} + 1} + 1\\right)}{2} + \\frac{N \\epsilon z \\left(- \\frac{2 \\left(1 - m^{2}\\right)}{\\left(\\left(1 - m^{2}\\right) \\left(e^{4 \\beta \\epsilon} - 1\\right) + 1\\right)^{0.5} + 1} + 1\\right)}{2}\\right)} + e^{- \\beta \\left(- \\frac{N \\epsilon z \\left(- \\frac{2 \\left(1 - m\\right)}{\\left(\\left(1 - m\\right) \\left(e^{4 \\beta \\epsilon} - 1\\right) + 1\\right)^{0.5} + 1} + 1\\right)}{2} + \\frac{N \\epsilon z \\left(- \\frac{2 \\left(1 - m^{2}\\right)}{\\left(\\left(1 - m^{2}\\right) \\left(e^{4 \\beta \\epsilon} - 1\\right) + 1\\right)^{0.5} + 1} + 1\\right)}{2}\\right)}} = 0$"
      ],
      "text/plain": [
       "Eq(-((N*epsilon*z*(-2*(1 - m)/(((1 - m)*(exp(4*beta*epsilon) - 1) + 1)**0.5 + 1) + 1)/2 - N*epsilon*z*(-2*(1 - m**2)/(((1 - m**2)*(exp(4*beta*epsilon) - 1) + 1)**0.5 + 1) + 1)/2 - beta*(-2.0*N*epsilon**2*z*(1 - m)**2*((1 - m)*(exp(4*beta*epsilon) - 1) + 1)**(-0.5)*exp(4*beta*epsilon)/(((1 - m)*(exp(4*beta*epsilon) - 1) + 1)**0.5 + 1)**2 + 2.0*N*epsilon**2*z*(1 - m**2)**2*((1 - m**2)*(exp(4*beta*epsilon) - 1) + 1)**(-0.5)*exp(4*beta*epsilon)/(((1 - m**2)*(exp(4*beta*epsilon) - 1) + 1)**0.5 + 1)**2))*exp(-beta*(-N*epsilon*z*(-2*(1 - m)/(((1 - m)*(exp(4*beta*epsilon) - 1) + 1)**0.5 + 1) + 1)/2 + N*epsilon*z*(-2*(1 - m**2)/(((1 - m**2)*(exp(4*beta*epsilon) - 1) + 1)**0.5 + 1) + 1)/2)) + 3*(N*epsilon*z*(-2*(1 - m/3)/(((1 - m/3)*(exp(4*beta*epsilon) - 1) + 1)**0.5 + 1) + 1)/2 - N*epsilon*z*(-2*(1 - m**2)/(((1 - m**2)*(exp(4*beta*epsilon) - 1) + 1)**0.5 + 1) + 1)/2 - beta*(-2.0*N*epsilon**2*z*(1 - m/3)**2*((1 - m/3)*(exp(4*beta*epsilon) - 1) + 1)**(-0.5)*exp(4*beta*epsilon)/(((1 - m/3)*(exp(4*beta*epsilon) - 1) + 1)**0.5 + 1)**2 + 2.0*N*epsilon**2*z*(1 - m**2)**2*((1 - m**2)*(exp(4*beta*epsilon) - 1) + 1)**(-0.5)*exp(4*beta*epsilon)/(((1 - m**2)*(exp(4*beta*epsilon) - 1) + 1)**0.5 + 1)**2))*exp(-beta*(-N*epsilon*z*(-2*(1 - m/3)/(((1 - m/3)*(exp(4*beta*epsilon) - 1) + 1)**0.5 + 1) + 1)/2 + N*epsilon*z*(-2*(1 - m**2)/(((1 - m**2)*(exp(4*beta*epsilon) - 1) + 1)**0.5 + 1) + 1)/2)) + 3*(-N*epsilon*z*(-2*(1 - m**2)/(((1 - m**2)*(exp(4*beta*epsilon) - 1) + 1)**0.5 + 1) + 1)/2 + N*epsilon*z*(-2*(m/3 + 1)/(((m/3 + 1)*(exp(4*beta*epsilon) - 1) + 1)**0.5 + 1) + 1)/2 - beta*(2.0*N*epsilon**2*z*(1 - m**2)**2*((1 - m**2)*(exp(4*beta*epsilon) - 1) + 1)**(-0.5)*exp(4*beta*epsilon)/(((1 - m**2)*(exp(4*beta*epsilon) - 1) + 1)**0.5 + 1)**2 - 2.0*N*epsilon**2*z*(m/3 + 1)**2*((m/3 + 1)*(exp(4*beta*epsilon) - 1) + 1)**(-0.5)*exp(4*beta*epsilon)/(((m/3 + 1)*(exp(4*beta*epsilon) - 1) + 1)**0.5 + 1)**2))*exp(-beta*(N*epsilon*z*(-2*(1 - m**2)/(((1 - m**2)*(exp(4*beta*epsilon) - 1) + 1)**0.5 + 1) + 1)/2 - N*epsilon*z*(-2*(m/3 + 1)/(((m/3 + 1)*(exp(4*beta*epsilon) - 1) + 1)**0.5 + 1) + 1)/2)) + (-N*epsilon*z*(-2*(1 - m**2)/(((1 - m**2)*(exp(4*beta*epsilon) - 1) + 1)**0.5 + 1) + 1)/2 + N*epsilon*z*(-2*(m + 1)/(((m + 1)*(exp(4*beta*epsilon) - 1) + 1)**0.5 + 1) + 1)/2 - beta*(2.0*N*epsilon**2*z*(1 - m**2)**2*((1 - m**2)*(exp(4*beta*epsilon) - 1) + 1)**(-0.5)*exp(4*beta*epsilon)/(((1 - m**2)*(exp(4*beta*epsilon) - 1) + 1)**0.5 + 1)**2 - 2.0*N*epsilon**2*z*(m + 1)**2*((m + 1)*(exp(4*beta*epsilon) - 1) + 1)**(-0.5)*exp(4*beta*epsilon)/(((m + 1)*(exp(4*beta*epsilon) - 1) + 1)**0.5 + 1)**2))*exp(-beta*(N*epsilon*z*(-2*(1 - m**2)/(((1 - m**2)*(exp(4*beta*epsilon) - 1) + 1)**0.5 + 1) + 1)/2 - N*epsilon*z*(-2*(m + 1)/(((m + 1)*(exp(4*beta*epsilon) - 1) + 1)**0.5 + 1) + 1)/2)))/(exp(-beta*(N*epsilon*z*(-2*(1 - m**2)/(((1 - m**2)*(exp(4*beta*epsilon) - 1) + 1)**0.5 + 1) + 1)/2 - N*epsilon*z*(-2*(m + 1)/(((m + 1)*(exp(4*beta*epsilon) - 1) + 1)**0.5 + 1) + 1)/2)) + 3*exp(-beta*(N*epsilon*z*(-2*(1 - m**2)/(((1 - m**2)*(exp(4*beta*epsilon) - 1) + 1)**0.5 + 1) + 1)/2 - N*epsilon*z*(-2*(m/3 + 1)/(((m/3 + 1)*(exp(4*beta*epsilon) - 1) + 1)**0.5 + 1) + 1)/2)) + 3*exp(-beta*(-N*epsilon*z*(-2*(1 - m/3)/(((1 - m/3)*(exp(4*beta*epsilon) - 1) + 1)**0.5 + 1) + 1)/2 + N*epsilon*z*(-2*(1 - m**2)/(((1 - m**2)*(exp(4*beta*epsilon) - 1) + 1)**0.5 + 1) + 1)/2)) + exp(-beta*(-N*epsilon*z*(-2*(1 - m)/(((1 - m)*(exp(4*beta*epsilon) - 1) + 1)**0.5 + 1) + 1)/2 + N*epsilon*z*(-2*(1 - m**2)/(((1 - m**2)*(exp(4*beta*epsilon) - 1) + 1)**0.5 + 1) + 1)/2))), 0)"
      ]
     },
     "metadata": {},
     "output_type": "display_data"
    }
   ],
   "source": [
    "del_E = -sp.diff(sp.log(V),beta)\n",
    "display((sp.Eq(del_E,0)))"
   ]
  },
  {
   "cell_type": "markdown",
   "id": "convenient-township",
   "metadata": {},
   "source": [
    "To apply the Coherent Potential Approximation (CPA) we equate\n",
    "$$<\\Delta E> = -\\frac{\\partial}{\\partial \\beta}\\ln(V) = 0$$\n",
    "\n",
    "We remove the denominator obtained from previous step"
   ]
  },
  {
   "cell_type": "code",
   "execution_count": 21,
   "id": "filled-visiting",
   "metadata": {},
   "outputs": [
    {
     "data": {
      "text/latex": [
       "$\\displaystyle - \\left(\\frac{N \\epsilon z \\left(- \\frac{2 \\left(1 - m\\right)}{\\left(\\left(1 - m\\right) \\left(e^{4 \\beta \\epsilon} - 1\\right) + 1\\right)^{0.5} + 1} + 1\\right)}{2} - \\frac{N \\epsilon z \\left(- \\frac{2 \\left(1 - m^{2}\\right)}{\\left(\\left(1 - m^{2}\\right) \\left(e^{4 \\beta \\epsilon} - 1\\right) + 1\\right)^{0.5} + 1} + 1\\right)}{2} - \\beta \\left(- \\frac{2.0 N \\epsilon^{2} z \\left(1 - m\\right)^{2} e^{4 \\beta \\epsilon}}{\\left(\\left(1 - m\\right) \\left(e^{4 \\beta \\epsilon} - 1\\right) + 1\\right)^{0.5} \\left(\\left(\\left(1 - m\\right) \\left(e^{4 \\beta \\epsilon} - 1\\right) + 1\\right)^{0.5} + 1\\right)^{2}} + \\frac{2.0 N \\epsilon^{2} z \\left(1 - m^{2}\\right)^{2} e^{4 \\beta \\epsilon}}{\\left(\\left(1 - m^{2}\\right) \\left(e^{4 \\beta \\epsilon} - 1\\right) + 1\\right)^{0.5} \\left(\\left(\\left(1 - m^{2}\\right) \\left(e^{4 \\beta \\epsilon} - 1\\right) + 1\\right)^{0.5} + 1\\right)^{2}}\\right)\\right) e^{- \\beta \\left(- \\frac{N \\epsilon z \\left(- \\frac{2 \\left(1 - m\\right)}{\\left(\\left(1 - m\\right) \\left(e^{4 \\beta \\epsilon} - 1\\right) + 1\\right)^{0.5} + 1} + 1\\right)}{2} + \\frac{N \\epsilon z \\left(- \\frac{2 \\left(1 - m^{2}\\right)}{\\left(\\left(1 - m^{2}\\right) \\left(e^{4 \\beta \\epsilon} - 1\\right) + 1\\right)^{0.5} + 1} + 1\\right)}{2}\\right)} - 3 \\left(\\frac{N \\epsilon z \\left(- \\frac{2 \\left(1 - \\frac{m}{3}\\right)}{\\left(\\left(1 - \\frac{m}{3}\\right) \\left(e^{4 \\beta \\epsilon} - 1\\right) + 1\\right)^{0.5} + 1} + 1\\right)}{2} - \\frac{N \\epsilon z \\left(- \\frac{2 \\left(1 - m^{2}\\right)}{\\left(\\left(1 - m^{2}\\right) \\left(e^{4 \\beta \\epsilon} - 1\\right) + 1\\right)^{0.5} + 1} + 1\\right)}{2} - \\beta \\left(- \\frac{2.0 N \\epsilon^{2} z \\left(1 - \\frac{m}{3}\\right)^{2} e^{4 \\beta \\epsilon}}{\\left(\\left(1 - \\frac{m}{3}\\right) \\left(e^{4 \\beta \\epsilon} - 1\\right) + 1\\right)^{0.5} \\left(\\left(\\left(1 - \\frac{m}{3}\\right) \\left(e^{4 \\beta \\epsilon} - 1\\right) + 1\\right)^{0.5} + 1\\right)^{2}} + \\frac{2.0 N \\epsilon^{2} z \\left(1 - m^{2}\\right)^{2} e^{4 \\beta \\epsilon}}{\\left(\\left(1 - m^{2}\\right) \\left(e^{4 \\beta \\epsilon} - 1\\right) + 1\\right)^{0.5} \\left(\\left(\\left(1 - m^{2}\\right) \\left(e^{4 \\beta \\epsilon} - 1\\right) + 1\\right)^{0.5} + 1\\right)^{2}}\\right)\\right) e^{- \\beta \\left(- \\frac{N \\epsilon z \\left(- \\frac{2 \\left(1 - \\frac{m}{3}\\right)}{\\left(\\left(1 - \\frac{m}{3}\\right) \\left(e^{4 \\beta \\epsilon} - 1\\right) + 1\\right)^{0.5} + 1} + 1\\right)}{2} + \\frac{N \\epsilon z \\left(- \\frac{2 \\left(1 - m^{2}\\right)}{\\left(\\left(1 - m^{2}\\right) \\left(e^{4 \\beta \\epsilon} - 1\\right) + 1\\right)^{0.5} + 1} + 1\\right)}{2}\\right)} - 3 \\left(- \\frac{N \\epsilon z \\left(- \\frac{2 \\left(1 - m^{2}\\right)}{\\left(\\left(1 - m^{2}\\right) \\left(e^{4 \\beta \\epsilon} - 1\\right) + 1\\right)^{0.5} + 1} + 1\\right)}{2} + \\frac{N \\epsilon z \\left(- \\frac{2 \\left(\\frac{m}{3} + 1\\right)}{\\left(\\left(\\frac{m}{3} + 1\\right) \\left(e^{4 \\beta \\epsilon} - 1\\right) + 1\\right)^{0.5} + 1} + 1\\right)}{2} - \\beta \\left(\\frac{2.0 N \\epsilon^{2} z \\left(1 - m^{2}\\right)^{2} e^{4 \\beta \\epsilon}}{\\left(\\left(1 - m^{2}\\right) \\left(e^{4 \\beta \\epsilon} - 1\\right) + 1\\right)^{0.5} \\left(\\left(\\left(1 - m^{2}\\right) \\left(e^{4 \\beta \\epsilon} - 1\\right) + 1\\right)^{0.5} + 1\\right)^{2}} - \\frac{2.0 N \\epsilon^{2} z \\left(\\frac{m}{3} + 1\\right)^{2} e^{4 \\beta \\epsilon}}{\\left(\\left(\\frac{m}{3} + 1\\right) \\left(e^{4 \\beta \\epsilon} - 1\\right) + 1\\right)^{0.5} \\left(\\left(\\left(\\frac{m}{3} + 1\\right) \\left(e^{4 \\beta \\epsilon} - 1\\right) + 1\\right)^{0.5} + 1\\right)^{2}}\\right)\\right) e^{- \\beta \\left(\\frac{N \\epsilon z \\left(- \\frac{2 \\left(1 - m^{2}\\right)}{\\left(\\left(1 - m^{2}\\right) \\left(e^{4 \\beta \\epsilon} - 1\\right) + 1\\right)^{0.5} + 1} + 1\\right)}{2} - \\frac{N \\epsilon z \\left(- \\frac{2 \\left(\\frac{m}{3} + 1\\right)}{\\left(\\left(\\frac{m}{3} + 1\\right) \\left(e^{4 \\beta \\epsilon} - 1\\right) + 1\\right)^{0.5} + 1} + 1\\right)}{2}\\right)} - \\left(- \\frac{N \\epsilon z \\left(- \\frac{2 \\left(1 - m^{2}\\right)}{\\left(\\left(1 - m^{2}\\right) \\left(e^{4 \\beta \\epsilon} - 1\\right) + 1\\right)^{0.5} + 1} + 1\\right)}{2} + \\frac{N \\epsilon z \\left(- \\frac{2 \\left(m + 1\\right)}{\\left(\\left(m + 1\\right) \\left(e^{4 \\beta \\epsilon} - 1\\right) + 1\\right)^{0.5} + 1} + 1\\right)}{2} - \\beta \\left(\\frac{2.0 N \\epsilon^{2} z \\left(1 - m^{2}\\right)^{2} e^{4 \\beta \\epsilon}}{\\left(\\left(1 - m^{2}\\right) \\left(e^{4 \\beta \\epsilon} - 1\\right) + 1\\right)^{0.5} \\left(\\left(\\left(1 - m^{2}\\right) \\left(e^{4 \\beta \\epsilon} - 1\\right) + 1\\right)^{0.5} + 1\\right)^{2}} - \\frac{2.0 N \\epsilon^{2} z \\left(m + 1\\right)^{2} e^{4 \\beta \\epsilon}}{\\left(\\left(m + 1\\right) \\left(e^{4 \\beta \\epsilon} - 1\\right) + 1\\right)^{0.5} \\left(\\left(\\left(m + 1\\right) \\left(e^{4 \\beta \\epsilon} - 1\\right) + 1\\right)^{0.5} + 1\\right)^{2}}\\right)\\right) e^{- \\beta \\left(\\frac{N \\epsilon z \\left(- \\frac{2 \\left(1 - m^{2}\\right)}{\\left(\\left(1 - m^{2}\\right) \\left(e^{4 \\beta \\epsilon} - 1\\right) + 1\\right)^{0.5} + 1} + 1\\right)}{2} - \\frac{N \\epsilon z \\left(- \\frac{2 \\left(m + 1\\right)}{\\left(\\left(m + 1\\right) \\left(e^{4 \\beta \\epsilon} - 1\\right) + 1\\right)^{0.5} + 1} + 1\\right)}{2}\\right)} = 0$"
      ],
      "text/plain": [
       "Eq(-(N*epsilon*z*(-2*(1 - m)/(((1 - m)*(exp(4*beta*epsilon) - 1) + 1)**0.5 + 1) + 1)/2 - N*epsilon*z*(-2*(1 - m**2)/(((1 - m**2)*(exp(4*beta*epsilon) - 1) + 1)**0.5 + 1) + 1)/2 - beta*(-2.0*N*epsilon**2*z*(1 - m)**2*((1 - m)*(exp(4*beta*epsilon) - 1) + 1)**(-0.5)*exp(4*beta*epsilon)/(((1 - m)*(exp(4*beta*epsilon) - 1) + 1)**0.5 + 1)**2 + 2.0*N*epsilon**2*z*(1 - m**2)**2*((1 - m**2)*(exp(4*beta*epsilon) - 1) + 1)**(-0.5)*exp(4*beta*epsilon)/(((1 - m**2)*(exp(4*beta*epsilon) - 1) + 1)**0.5 + 1)**2))*exp(-beta*(-N*epsilon*z*(-2*(1 - m)/(((1 - m)*(exp(4*beta*epsilon) - 1) + 1)**0.5 + 1) + 1)/2 + N*epsilon*z*(-2*(1 - m**2)/(((1 - m**2)*(exp(4*beta*epsilon) - 1) + 1)**0.5 + 1) + 1)/2)) - 3*(N*epsilon*z*(-2*(1 - m/3)/(((1 - m/3)*(exp(4*beta*epsilon) - 1) + 1)**0.5 + 1) + 1)/2 - N*epsilon*z*(-2*(1 - m**2)/(((1 - m**2)*(exp(4*beta*epsilon) - 1) + 1)**0.5 + 1) + 1)/2 - beta*(-2.0*N*epsilon**2*z*(1 - m/3)**2*((1 - m/3)*(exp(4*beta*epsilon) - 1) + 1)**(-0.5)*exp(4*beta*epsilon)/(((1 - m/3)*(exp(4*beta*epsilon) - 1) + 1)**0.5 + 1)**2 + 2.0*N*epsilon**2*z*(1 - m**2)**2*((1 - m**2)*(exp(4*beta*epsilon) - 1) + 1)**(-0.5)*exp(4*beta*epsilon)/(((1 - m**2)*(exp(4*beta*epsilon) - 1) + 1)**0.5 + 1)**2))*exp(-beta*(-N*epsilon*z*(-2*(1 - m/3)/(((1 - m/3)*(exp(4*beta*epsilon) - 1) + 1)**0.5 + 1) + 1)/2 + N*epsilon*z*(-2*(1 - m**2)/(((1 - m**2)*(exp(4*beta*epsilon) - 1) + 1)**0.5 + 1) + 1)/2)) - 3*(-N*epsilon*z*(-2*(1 - m**2)/(((1 - m**2)*(exp(4*beta*epsilon) - 1) + 1)**0.5 + 1) + 1)/2 + N*epsilon*z*(-2*(m/3 + 1)/(((m/3 + 1)*(exp(4*beta*epsilon) - 1) + 1)**0.5 + 1) + 1)/2 - beta*(2.0*N*epsilon**2*z*(1 - m**2)**2*((1 - m**2)*(exp(4*beta*epsilon) - 1) + 1)**(-0.5)*exp(4*beta*epsilon)/(((1 - m**2)*(exp(4*beta*epsilon) - 1) + 1)**0.5 + 1)**2 - 2.0*N*epsilon**2*z*(m/3 + 1)**2*((m/3 + 1)*(exp(4*beta*epsilon) - 1) + 1)**(-0.5)*exp(4*beta*epsilon)/(((m/3 + 1)*(exp(4*beta*epsilon) - 1) + 1)**0.5 + 1)**2))*exp(-beta*(N*epsilon*z*(-2*(1 - m**2)/(((1 - m**2)*(exp(4*beta*epsilon) - 1) + 1)**0.5 + 1) + 1)/2 - N*epsilon*z*(-2*(m/3 + 1)/(((m/3 + 1)*(exp(4*beta*epsilon) - 1) + 1)**0.5 + 1) + 1)/2)) - (-N*epsilon*z*(-2*(1 - m**2)/(((1 - m**2)*(exp(4*beta*epsilon) - 1) + 1)**0.5 + 1) + 1)/2 + N*epsilon*z*(-2*(m + 1)/(((m + 1)*(exp(4*beta*epsilon) - 1) + 1)**0.5 + 1) + 1)/2 - beta*(2.0*N*epsilon**2*z*(1 - m**2)**2*((1 - m**2)*(exp(4*beta*epsilon) - 1) + 1)**(-0.5)*exp(4*beta*epsilon)/(((1 - m**2)*(exp(4*beta*epsilon) - 1) + 1)**0.5 + 1)**2 - 2.0*N*epsilon**2*z*(m + 1)**2*((m + 1)*(exp(4*beta*epsilon) - 1) + 1)**(-0.5)*exp(4*beta*epsilon)/(((m + 1)*(exp(4*beta*epsilon) - 1) + 1)**0.5 + 1)**2))*exp(-beta*(N*epsilon*z*(-2*(1 - m**2)/(((1 - m**2)*(exp(4*beta*epsilon) - 1) + 1)**0.5 + 1) + 1)/2 - N*epsilon*z*(-2*(m + 1)/(((m + 1)*(exp(4*beta*epsilon) - 1) + 1)**0.5 + 1) + 1)/2)), 0)"
      ]
     },
     "metadata": {},
     "output_type": "display_data"
    }
   ],
   "source": [
    "CPA_E = 0\n",
    "\n",
    "for i in E_list:\n",
    "    CPA_E = CPA_E - sp.diff(sp.exp(-beta*i),beta)\n",
    "    \n",
    "display((sp.Eq(CPA_E,0)))"
   ]
  },
  {
   "cell_type": "markdown",
   "id": "handmade-database",
   "metadata": {},
   "source": [
    "Substituting $z=2$, $\\epsilon = 1$ and $N=1$\n",
    "\n",
    "Substituting $N=1$ is equivalent to taking energy per site from the very beginning. (We are not considering a single point!)"
   ]
  },
  {
   "cell_type": "code",
   "execution_count": 22,
   "id": "shared-survival",
   "metadata": {},
   "outputs": [
    {
     "data": {
      "text/latex": [
       "$\\displaystyle - \\left(- \\beta \\left(- \\frac{4.0 \\left(1 - m\\right)^{2} e^{4 \\beta}}{\\left(\\left(1 - m\\right) \\left(e^{4 \\beta} - 1\\right) + 1\\right)^{0.5} \\left(\\left(\\left(1 - m\\right) \\left(e^{4 \\beta} - 1\\right) + 1\\right)^{0.5} + 1\\right)^{2}} + \\frac{4.0 \\left(1 - m^{2}\\right)^{2} e^{4 \\beta}}{\\left(\\left(1 - m^{2}\\right) \\left(e^{4 \\beta} - 1\\right) + 1\\right)^{0.5} \\left(\\left(\\left(1 - m^{2}\\right) \\left(e^{4 \\beta} - 1\\right) + 1\\right)^{0.5} + 1\\right)^{2}}\\right) - \\frac{2 \\left(1 - m\\right)}{\\left(\\left(1 - m\\right) \\left(e^{4 \\beta} - 1\\right) + 1\\right)^{0.5} + 1} + \\frac{2 \\left(1 - m^{2}\\right)}{\\left(\\left(1 - m^{2}\\right) \\left(e^{4 \\beta} - 1\\right) + 1\\right)^{0.5} + 1}\\right) e^{- \\beta \\left(\\frac{2 \\left(1 - m\\right)}{\\left(\\left(1 - m\\right) \\left(e^{4 \\beta} - 1\\right) + 1\\right)^{0.5} + 1} - \\frac{2 \\left(1 - m^{2}\\right)}{\\left(\\left(1 - m^{2}\\right) \\left(e^{4 \\beta} - 1\\right) + 1\\right)^{0.5} + 1}\\right)} - 3 \\left(- \\beta \\left(- \\frac{4.0 \\left(1 - \\frac{m}{3}\\right)^{2} e^{4 \\beta}}{\\left(\\left(1 - \\frac{m}{3}\\right) \\left(e^{4 \\beta} - 1\\right) + 1\\right)^{0.5} \\left(\\left(\\left(1 - \\frac{m}{3}\\right) \\left(e^{4 \\beta} - 1\\right) + 1\\right)^{0.5} + 1\\right)^{2}} + \\frac{4.0 \\left(1 - m^{2}\\right)^{2} e^{4 \\beta}}{\\left(\\left(1 - m^{2}\\right) \\left(e^{4 \\beta} - 1\\right) + 1\\right)^{0.5} \\left(\\left(\\left(1 - m^{2}\\right) \\left(e^{4 \\beta} - 1\\right) + 1\\right)^{0.5} + 1\\right)^{2}}\\right) - \\frac{2 \\left(1 - \\frac{m}{3}\\right)}{\\left(\\left(1 - \\frac{m}{3}\\right) \\left(e^{4 \\beta} - 1\\right) + 1\\right)^{0.5} + 1} + \\frac{2 \\left(1 - m^{2}\\right)}{\\left(\\left(1 - m^{2}\\right) \\left(e^{4 \\beta} - 1\\right) + 1\\right)^{0.5} + 1}\\right) e^{- \\beta \\left(\\frac{2 \\left(1 - \\frac{m}{3}\\right)}{\\left(\\left(1 - \\frac{m}{3}\\right) \\left(e^{4 \\beta} - 1\\right) + 1\\right)^{0.5} + 1} - \\frac{2 \\left(1 - m^{2}\\right)}{\\left(\\left(1 - m^{2}\\right) \\left(e^{4 \\beta} - 1\\right) + 1\\right)^{0.5} + 1}\\right)} - 3 \\left(- \\beta \\left(\\frac{4.0 \\left(1 - m^{2}\\right)^{2} e^{4 \\beta}}{\\left(\\left(1 - m^{2}\\right) \\left(e^{4 \\beta} - 1\\right) + 1\\right)^{0.5} \\left(\\left(\\left(1 - m^{2}\\right) \\left(e^{4 \\beta} - 1\\right) + 1\\right)^{0.5} + 1\\right)^{2}} - \\frac{4.0 \\left(\\frac{m}{3} + 1\\right)^{2} e^{4 \\beta}}{\\left(\\left(\\frac{m}{3} + 1\\right) \\left(e^{4 \\beta} - 1\\right) + 1\\right)^{0.5} \\left(\\left(\\left(\\frac{m}{3} + 1\\right) \\left(e^{4 \\beta} - 1\\right) + 1\\right)^{0.5} + 1\\right)^{2}}\\right) + \\frac{2 \\left(1 - m^{2}\\right)}{\\left(\\left(1 - m^{2}\\right) \\left(e^{4 \\beta} - 1\\right) + 1\\right)^{0.5} + 1} - \\frac{2 \\left(\\frac{m}{3} + 1\\right)}{\\left(\\left(\\frac{m}{3} + 1\\right) \\left(e^{4 \\beta} - 1\\right) + 1\\right)^{0.5} + 1}\\right) e^{- \\beta \\left(- \\frac{2 \\left(1 - m^{2}\\right)}{\\left(\\left(1 - m^{2}\\right) \\left(e^{4 \\beta} - 1\\right) + 1\\right)^{0.5} + 1} + \\frac{2 \\left(\\frac{m}{3} + 1\\right)}{\\left(\\left(\\frac{m}{3} + 1\\right) \\left(e^{4 \\beta} - 1\\right) + 1\\right)^{0.5} + 1}\\right)} - \\left(- \\beta \\left(\\frac{4.0 \\left(1 - m^{2}\\right)^{2} e^{4 \\beta}}{\\left(\\left(1 - m^{2}\\right) \\left(e^{4 \\beta} - 1\\right) + 1\\right)^{0.5} \\left(\\left(\\left(1 - m^{2}\\right) \\left(e^{4 \\beta} - 1\\right) + 1\\right)^{0.5} + 1\\right)^{2}} - \\frac{4.0 \\left(m + 1\\right)^{2} e^{4 \\beta}}{\\left(\\left(m + 1\\right) \\left(e^{4 \\beta} - 1\\right) + 1\\right)^{0.5} \\left(\\left(\\left(m + 1\\right) \\left(e^{4 \\beta} - 1\\right) + 1\\right)^{0.5} + 1\\right)^{2}}\\right) + \\frac{2 \\left(1 - m^{2}\\right)}{\\left(\\left(1 - m^{2}\\right) \\left(e^{4 \\beta} - 1\\right) + 1\\right)^{0.5} + 1} - \\frac{2 \\left(m + 1\\right)}{\\left(\\left(m + 1\\right) \\left(e^{4 \\beta} - 1\\right) + 1\\right)^{0.5} + 1}\\right) e^{- \\beta \\left(- \\frac{2 \\left(1 - m^{2}\\right)}{\\left(\\left(1 - m^{2}\\right) \\left(e^{4 \\beta} - 1\\right) + 1\\right)^{0.5} + 1} + \\frac{2 \\left(m + 1\\right)}{\\left(\\left(m + 1\\right) \\left(e^{4 \\beta} - 1\\right) + 1\\right)^{0.5} + 1}\\right)} = 0$"
      ],
      "text/plain": [
       "Eq(-(-beta*(-4.0*(1 - m)**2*((1 - m)*(exp(4*beta) - 1) + 1)**(-0.5)*exp(4*beta)/(((1 - m)*(exp(4*beta) - 1) + 1)**0.5 + 1)**2 + 4.0*(1 - m**2)**2*((1 - m**2)*(exp(4*beta) - 1) + 1)**(-0.5)*exp(4*beta)/(((1 - m**2)*(exp(4*beta) - 1) + 1)**0.5 + 1)**2) - 2*(1 - m)/(((1 - m)*(exp(4*beta) - 1) + 1)**0.5 + 1) + 2*(1 - m**2)/(((1 - m**2)*(exp(4*beta) - 1) + 1)**0.5 + 1))*exp(-beta*(2*(1 - m)/(((1 - m)*(exp(4*beta) - 1) + 1)**0.5 + 1) - 2*(1 - m**2)/(((1 - m**2)*(exp(4*beta) - 1) + 1)**0.5 + 1))) - 3*(-beta*(-4.0*(1 - m/3)**2*((1 - m/3)*(exp(4*beta) - 1) + 1)**(-0.5)*exp(4*beta)/(((1 - m/3)*(exp(4*beta) - 1) + 1)**0.5 + 1)**2 + 4.0*(1 - m**2)**2*((1 - m**2)*(exp(4*beta) - 1) + 1)**(-0.5)*exp(4*beta)/(((1 - m**2)*(exp(4*beta) - 1) + 1)**0.5 + 1)**2) - 2*(1 - m/3)/(((1 - m/3)*(exp(4*beta) - 1) + 1)**0.5 + 1) + 2*(1 - m**2)/(((1 - m**2)*(exp(4*beta) - 1) + 1)**0.5 + 1))*exp(-beta*(2*(1 - m/3)/(((1 - m/3)*(exp(4*beta) - 1) + 1)**0.5 + 1) - 2*(1 - m**2)/(((1 - m**2)*(exp(4*beta) - 1) + 1)**0.5 + 1))) - 3*(-beta*(4.0*(1 - m**2)**2*((1 - m**2)*(exp(4*beta) - 1) + 1)**(-0.5)*exp(4*beta)/(((1 - m**2)*(exp(4*beta) - 1) + 1)**0.5 + 1)**2 - 4.0*(m/3 + 1)**2*((m/3 + 1)*(exp(4*beta) - 1) + 1)**(-0.5)*exp(4*beta)/(((m/3 + 1)*(exp(4*beta) - 1) + 1)**0.5 + 1)**2) + 2*(1 - m**2)/(((1 - m**2)*(exp(4*beta) - 1) + 1)**0.5 + 1) - 2*(m/3 + 1)/(((m/3 + 1)*(exp(4*beta) - 1) + 1)**0.5 + 1))*exp(-beta*(-2*(1 - m**2)/(((1 - m**2)*(exp(4*beta) - 1) + 1)**0.5 + 1) + 2*(m/3 + 1)/(((m/3 + 1)*(exp(4*beta) - 1) + 1)**0.5 + 1))) - (-beta*(4.0*(1 - m**2)**2*((1 - m**2)*(exp(4*beta) - 1) + 1)**(-0.5)*exp(4*beta)/(((1 - m**2)*(exp(4*beta) - 1) + 1)**0.5 + 1)**2 - 4.0*(m + 1)**2*((m + 1)*(exp(4*beta) - 1) + 1)**(-0.5)*exp(4*beta)/(((m + 1)*(exp(4*beta) - 1) + 1)**0.5 + 1)**2) + 2*(1 - m**2)/(((1 - m**2)*(exp(4*beta) - 1) + 1)**0.5 + 1) - 2*(m + 1)/(((m + 1)*(exp(4*beta) - 1) + 1)**0.5 + 1))*exp(-beta*(-2*(1 - m**2)/(((1 - m**2)*(exp(4*beta) - 1) + 1)**0.5 + 1) + 2*(m + 1)/(((m + 1)*(exp(4*beta) - 1) + 1)**0.5 + 1))), 0)"
      ]
     },
     "metadata": {},
     "output_type": "display_data"
    }
   ],
   "source": [
    "CPA_E = CPA_E.subs(epsilon,1)\n",
    "CPA_E = CPA_E.subs(z,2)\n",
    "CPA_E = CPA_E.subs(N,1)\n",
    "display((sp.Eq(CPA_E,0)))"
   ]
  },
  {
   "cell_type": "code",
   "execution_count": 23,
   "id": "robust-vulnerability",
   "metadata": {},
   "outputs": [],
   "source": [
    "CPA_E_subs = CPA_E.subs(beta,10)\n",
    "lam_f = sp.lambdify(m,CPA_E_subs,'numpy') #Converting sympy symbols and function to numpy for easier numerical calculations"
   ]
  },
  {
   "cell_type": "code",
   "execution_count": null,
   "id": "adaptive-moscow",
   "metadata": {},
   "outputs": [],
   "source": [
    "#Finding the roots of the CPA equation. The curve is beta on x-axis vs m on y-axis.\n",
    "#THere will be an error generated, but the program can be continued.\n",
    "\n",
    "beta_val = 0.49\n",
    "x_CPA = []\n",
    "y_CPA = []\n",
    "while beta_val<10:\n",
    "    CPA_E_subs = CPA_E.subs(beta,beta_val)\n",
    "    lam_f = sp.lambdify(m,CPA_E_subs,'numpy')\n",
    "    root, info = brentq(lam_f, 0.01, 1, full_output=True)\n",
    "    if(info.converged == True):\n",
    "        x_CPA.append(beta_val)\n",
    "        y_CPA.append(root)\n",
    "    beta_val = beta_val+0.005\n",
    "    \n"
   ]
  },
  {
   "cell_type": "code",
   "execution_count": 17,
   "id": "understanding-jacket",
   "metadata": {},
   "outputs": [
    {
     "data": {
      "image/png": "[encoded data removed]",
      "text/plain": [
       "<Figure size 432x288 with 1 Axes>"
      ]
     },
     "metadata": {
      "needs_background": "light"
     },
     "output_type": "display_data"
    }
   ],
   "source": [
    "plt.plot(x_CPA,y_CPA)\n",
    "plt.show()"
   ]
  },
  {
   "cell_type": "code",
   "execution_count": null,
   "metadata": {},
   "outputs": [],
   "source": []
  }
 ],
 "metadata": {
  "kernelspec": {
   "display_name": "Python 3",
   "language": "python",
   "name": "python3"
  },
  "language_info": {
   "codemirror_mode": {
    "name": "ipython",
    "version": 3
   },
   "file_extension": ".py",
   "mimetype": "text/x-python",
   "name": "python",
   "nbconvert_exporter": "python",
   "pygments_lexer": "ipython3",
   "version": "3.9.1"
  }
 },
 "nbformat": 4,
 "nbformat_minor": 5
}
